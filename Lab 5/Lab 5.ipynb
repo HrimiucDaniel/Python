{
 "cells": [
  {
   "cell_type": "markdown",
   "metadata": {},
   "source": [
    "Lab 5 - Python Programming"
   ]
  },
  {
   "cell_type": "markdown",
   "metadata": {},
   "source": [
    "1) "
   ]
  },
  {
   "cell_type": "markdown",
   "metadata": {},
   "source": [
    "a) Write a module named utils.py that contains one function called process_item. The function will have one parameter, x, and will return the least prime number greater than x. When run, the module will request an input from the user, convert it to a number and it will display the output of the process_item function."
   ]
  },
  {
   "cell_type": "code",
   "execution_count": 3,
   "metadata": {},
   "outputs": [
    {
     "name": "stdout",
     "output_type": "stream",
     "text": [
      "23\n"
     ]
    }
   ],
   "source": [
    "import utils"
   ]
  },
  {
   "cell_type": "markdown",
   "metadata": {},
   "source": [
    "b) Write a module named app.py. When this module is run, it will run in an infinite loop, waiting for inputs from the user. The program will convert the input to a number and process it using the function process_item implented in utils.py. You will have to import this function in your module. The program stops when the user enters the message \"q\"."
   ]
  },
  {
   "cell_type": "code",
   "execution_count": 4,
   "metadata": {},
   "outputs": [],
   "source": [
    "import app"
   ]
  },
  {
   "cell_type": "markdown",
   "metadata": {},
   "source": [
    "2) Create a function and an anonymous function that receive a variable number of arguments. Both will return the sum of the values of the keyword arguments.\n",
    "\n",
    "Example:\n",
    "\n",
    "For the call my_function(1, 2, c=3, d=4) the returned value will be 7."
   ]
  },
  {
   "cell_type": "code",
   "execution_count": 29,
   "metadata": {},
   "outputs": [
    {
     "data": {
      "text/plain": [
       "7"
      ]
     },
     "execution_count": 29,
     "metadata": {},
     "output_type": "execute_result"
    }
   ],
   "source": [
    "def my_function(*args, **kwargs):\n",
    "  sum = 0\n",
    "  for key in kwargs.keys():\n",
    "    sum += kwargs[key]\n",
    "  return sum\n",
    "\n",
    "my_function(1, 2, c=3, d=4)"
   ]
  },
  {
   "cell_type": "code",
   "execution_count": 30,
   "metadata": {},
   "outputs": [
    {
     "data": {
      "text/plain": [
       "7"
      ]
     },
     "execution_count": 30,
     "metadata": {},
     "output_type": "execute_result"
    }
   ],
   "source": [
    "my_function2 = (lambda *args, **kwargs: sum(kwargs.values()))\n",
    "\n",
    "my_function2(1, 2, c=3, d=4)"
   ]
  },
  {
   "cell_type": "markdown",
   "metadata": {},
   "source": [
    "3) Using functions, anonymous functions, list comprehensions and filter, implement three methods to generate a list with all the vowels in a given string.\n",
    "\n",
    "For the string \"Programming in Python is fun\" the list returned will be ['o', 'a', 'i', 'i', 'o', 'i', 'u'].\n"
   ]
  },
  {
   "cell_type": "code",
   "execution_count": 28,
   "metadata": {},
   "outputs": [
    {
     "data": {
      "text/plain": [
       "['o', 'a', 'i', 'i', 'o', 'i', 'u']"
      ]
     },
     "execution_count": 28,
     "metadata": {},
     "output_type": "execute_result"
    }
   ],
   "source": [
    "def vowels(str):\n",
    "  vowels_list = list()\n",
    "  for ch in str:\n",
    "    if ch in \"aeiouAEIOU\":\n",
    "      vowels_list.append(ch)\n",
    "  return vowels_list\n",
    "vowels(\"Programming in Python is fun\")"
   ]
  },
  {
   "cell_type": "code",
   "execution_count": 27,
   "metadata": {},
   "outputs": [
    {
     "data": {
      "text/plain": [
       "['o', 'a', 'i', 'i', 'o', 'i', 'u']"
      ]
     },
     "execution_count": 27,
     "metadata": {},
     "output_type": "execute_result"
    }
   ],
   "source": [
    "vowels_list = lambda str: [ch for ch in str if ch in \"aeiouAEIOU\"]\n",
    "vowels_list(\"Programming in Python is fun\")"
   ]
  },
  {
   "cell_type": "code",
   "execution_count": 26,
   "metadata": {},
   "outputs": [
    {
     "data": {
      "text/plain": [
       "['o', 'a', 'i', 'i', 'o', 'i', 'u']"
      ]
     },
     "execution_count": 26,
     "metadata": {},
     "output_type": "execute_result"
    }
   ],
   "source": [
    "string_x = \"Programming in Python is fun\"\n",
    "vowels_list = [ch for ch in string_x if ch in \"aeiouAEIOU\"]\n",
    "vowels_list"
   ]
  },
  {
   "cell_type": "markdown",
   "metadata": {},
   "source": [
    "4) Write a function that receives a variable number of arguments and keyword arguments. The function returns a list containing only the arguments which are dictionaries, containing minimum 2 keys and at least one string key with minimum 3 characters.\n",
    "\n",
    "Example:\n",
    "\n",
    "my_function(\n",
    "\n",
    " {1: 2, 3: 4, 5: 6}, \n",
    "\n",
    " {'a': 5, 'b': 7, 'c': 'e'}, \n",
    "\n",
    " {2: 3}, \n",
    "\n",
    " [1, 2, 3],\n",
    "\n",
    " {'abc': 4, 'def': 5},\n",
    "\n",
    " 3764,\n",
    "\n",
    " dictionar={'ab': 4, 'ac': 'abcde', 'fg': 'abc'},\n",
    "\n",
    " test={1: 1, 'test': True}\n",
    "\n",
    ") will return: [{'abc': 4, 'def': 5}, {1: 1, 'test': True}]"
   ]
  },
  {
   "cell_type": "code",
   "execution_count": 8,
   "metadata": {},
   "outputs": [
    {
     "name": "stdout",
     "output_type": "stream",
     "text": [
      "[{'abc': 4, 'def': 5}, {1: 1, 'test': True}]\n"
     ]
    }
   ],
   "source": [
    "def dictionary(*args, **kwargs):\n",
    "  dict_list = list()\n",
    "  for arg in args:\n",
    "    if hasattr(arg, '__iter__'):\n",
    "      if type(arg) is dict:\n",
    "        if len(arg.keys()) >= 2:\n",
    "          ok = 0\n",
    "          for x in arg.keys():\n",
    "            if type(x) is str and len(x) >= 3:\n",
    "              ok = 1\n",
    "          if ok == 1:\n",
    "            dict_list.append(arg)\n",
    "  for kwarg in kwargs.values():\n",
    "    if hasattr(kwarg, '__iter__'):\n",
    "      if type(kwarg) is dict:\n",
    "        if len(kwarg.keys()) >= 2:\n",
    "          ok = 0\n",
    "          for x in kwarg.keys():\n",
    "            if type(x) is str and len(x) >= 3:\n",
    "              ok = 1\n",
    "          if ok == 1:\n",
    "            dict_list.append(kwarg)\n",
    "  return dict_list\n",
    "\n",
    "print(dictionary({1: 2, 3: 4, 5: 6},{'a': 5, 'b': 7, 'c': 'e'}, {2: 3},[1, 2, 3],{'abc': 4, 'def': 5},3764,dictionar={'ab': 4, 'ac': 'abcde', 'fg': 'abc'},test={1: 1, 'test': True}))\n",
    "          \n",
    "        \n",
    "  "
   ]
  },
  {
   "cell_type": "markdown",
   "metadata": {},
   "source": [
    "5) Write a function with one parameter which represents a list. The function will return a new list containing all the numbers found in the given list.\n",
    "\n",
    "Example: my_function([1, \"2\", {\"3\": \"a\"}, {4, 5}, 5, 6, 3.0]) will return [1, 5, 6, 3.0]\n",
    "\n"
   ]
  },
  {
   "cell_type": "code",
   "execution_count": 14,
   "metadata": {},
   "outputs": [
    {
     "name": "stdout",
     "output_type": "stream",
     "text": [
      "[1, 5, 6, 3.0]\n"
     ]
    }
   ],
   "source": [
    "def numbers(list_of_numbers):\n",
    "  list_l = list()\n",
    "  for element in list_of_numbers:\n",
    "    if type(element) is int or type(element) is float or type(element) is complex:\n",
    "      list_l.append(element)\n",
    "  return list_l\n",
    "    \n",
    "print(numbers([1, \"2\", {\"3\": \"a\"}, {4, 5}, 5, 6, 3.0]))\n"
   ]
  },
  {
   "cell_type": "markdown",
   "metadata": {},
   "source": [
    "6) Write a function that receives a list with integers as parameter that contains an equal number of even and odd numbers that are in no specific order. The function should return a list of pairs (tuples of 2 elements) of numbers (Xi, Yi) such that Xi is the i-th even number in the list and Yi is the i-th odd number\n",
    "\n",
    "Example:\n",
    "\n",
    "my_function([1, 3, 5, 2, 8, 7, 4, 10, 9, 2]) will return [(2, 1), (8, 3), (4, 5), (10, 7), (2, 9)]\n",
    "\n"
   ]
  },
  {
   "cell_type": "code",
   "execution_count": 15,
   "metadata": {},
   "outputs": [
    {
     "data": {
      "text/plain": [
       "[(2, 1), (8, 3), (4, 5), (10, 7), (2, 9)]"
      ]
     },
     "execution_count": 15,
     "metadata": {},
     "output_type": "execute_result"
    }
   ],
   "source": [
    "def pair_odd_even(list_nr):\n",
    "  nr_even = [x for x in list_nr if x%2 == 0]\n",
    "  nr_odd = [x for x in list_nr if x%2 == 1]\n",
    "  final_list = list()\n",
    "  for index in range(0, len(nr_even)):\n",
    "    tp = (nr_even[index], nr_odd[index])\n",
    "    final_list.append(tp)\n",
    "  return final_list\n",
    "\n",
    "pair_odd_even([1, 3, 5, 2, 8, 7, 4, 10, 9, 2])"
   ]
  },
  {
   "cell_type": "markdown",
   "metadata": {},
   "source": [
    "7) Write a function called process that receives a variable number of keyword arguments\n",
    "\n",
    "The function generates the first 1000 numbers of the Fibonacci sequence and then processes them in the following way:\n",
    "\n",
    "If the function receives a parameter called filters, this will be a list of predicates (function receiving an argument and returning True/False) and will retain from the generated numbers only those for which the predicates are True. \n",
    "\n",
    "If the function receives a parameter called limit, it will return only that amount of numbers from the sequence. \n",
    "\n",
    "If the function receives a parameter called offset, it will skip that number of entries from the beginning of the result list. \n",
    "\n",
    "The function will return the processed numbers.\n",
    "\n",
    "Example:\n",
    "\n",
    "def sum_digits(x):\n",
    "\n",
    "    return sum(map(int, str(x)))\n",
    "\n",
    "process(\n",
    "\n",
    "    filters=[lambda item: item % 2 == 0, lambda item: item == 2 or 4 <= sum_digits(item) <= 20],\n",
    "\n",
    "    limit=2,\n",
    "\n",
    "    offset=2\n",
    "\n",
    ") returns [34, 144]\n",
    "\n",
    "Explanation:\n",
    "\n",
    "- Fibonacci sequence will be: 0, 1, 1, 2, 3, 5, 8, 13, 21, 34, 55, 89, 144, 233, 377, 610...\n",
    "\n",
    "- Valid numbers are: 2, 8, 34, 144, 610, 2584, 10946, 832040\n",
    "\n",
    "- After offset: 34, 144, 610, 2584, 10946, 832040\n",
    "\n",
    "- After limit: 34, 144\n",
    "\n"
   ]
  },
  {
   "cell_type": "code",
   "execution_count": 16,
   "metadata": {},
   "outputs": [],
   "source": [
    "def sum_digits(x):\n",
    "\n",
    "    return sum(map(int, str(x)))"
   ]
  },
  {
   "cell_type": "code",
   "execution_count": 24,
   "metadata": {},
   "outputs": [
    {
     "data": {
      "text/plain": [
       "[0,\n",
       " 1,\n",
       " 1,\n",
       " 2,\n",
       " 3,\n",
       " 5,\n",
       " 8,\n",
       " 13,\n",
       " 21,\n",
       " 34,\n",
       " 55,\n",
       " 89,\n",
       " 144,\n",
       " 233,\n",
       " 377,\n",
       " 610,\n",
       " 987,\n",
       " 1597,\n",
       " 2584,\n",
       " 4181,\n",
       " 6765,\n",
       " 10946,\n",
       " 17711,\n",
       " 28657,\n",
       " 46368,\n",
       " 75025,\n",
       " 121393,\n",
       " 196418,\n",
       " 317811,\n",
       " 514229,\n",
       " 832040,\n",
       " 1346269,\n",
       " 2178309,\n",
       " 3524578,\n",
       " 5702887,\n",
       " 9227465,\n",
       " 14930352,\n",
       " 24157817,\n",
       " 39088169,\n",
       " 63245986,\n",
       " 102334155,\n",
       " 165580141,\n",
       " 267914296,\n",
       " 433494437,\n",
       " 701408733,\n",
       " 1134903170,\n",
       " 1836311903,\n",
       " 2971215073,\n",
       " 4807526976,\n",
       " 7778742049,\n",
       " 12586269025,\n",
       " 20365011074,\n",
       " 32951280099,\n",
       " 53316291173,\n",
       " 86267571272,\n",
       " 139583862445,\n",
       " 225851433717,\n",
       " 365435296162,\n",
       " 591286729879,\n",
       " 956722026041,\n",
       " 1548008755920,\n",
       " 2504730781961,\n",
       " 4052739537881,\n",
       " 6557470319842,\n",
       " 10610209857723,\n",
       " 17167680177565,\n",
       " 27777890035288,\n",
       " 44945570212853,\n",
       " 72723460248141,\n",
       " 117669030460994,\n",
       " 190392490709135,\n",
       " 308061521170129,\n",
       " 498454011879264,\n",
       " 806515533049393,\n",
       " 1304969544928657,\n",
       " 2111485077978050,\n",
       " 3416454622906707,\n",
       " 5527939700884757,\n",
       " 8944394323791464,\n",
       " 14472334024676221,\n",
       " 23416728348467685,\n",
       " 37889062373143906,\n",
       " 61305790721611591,\n",
       " 99194853094755497,\n",
       " 160500643816367088,\n",
       " 259695496911122585,\n",
       " 420196140727489673,\n",
       " 679891637638612258,\n",
       " 1100087778366101931,\n",
       " 1779979416004714189,\n",
       " 2880067194370816120,\n",
       " 4660046610375530309,\n",
       " 7540113804746346429,\n",
       " 12200160415121876738,\n",
       " 19740274219868223167,\n",
       " 31940434634990099905,\n",
       " 51680708854858323072,\n",
       " 83621143489848422977,\n",
       " 135301852344706746049,\n",
       " 218922995834555169026]"
      ]
     },
     "execution_count": 24,
     "metadata": {},
     "output_type": "execute_result"
    }
   ],
   "source": [
    "def first_100_Fib():\n",
    "  list_fib = list()\n",
    "  x1 = 0\n",
    "  x2 = 1\n",
    "  c = 2\n",
    "  list_fib.append(x1)\n",
    "  list_fib.append(x2)\n",
    "  while True:\n",
    "    sum = x2 + x1\n",
    "    list_fib.append(sum)\n",
    "    x1 = x2\n",
    "    x2 = sum\n",
    "    c += 1\n",
    "    if c == 100:\n",
    "      break\n",
    "  return list_fib\n",
    "\n",
    "first_100_Fib()\n",
    "    "
   ]
  },
  {
   "cell_type": "code",
   "execution_count": 31,
   "metadata": {},
   "outputs": [
    {
     "data": {
      "text/plain": [
       "[34, 144]"
      ]
     },
     "execution_count": 31,
     "metadata": {},
     "output_type": "execute_result"
    }
   ],
   "source": [
    "def process(**kwargs):\n",
    "  list_el = list()\n",
    "  if \"filters\" in kwargs.keys():\n",
    "    new_list = list([x for x in first_100_Fib() if kwargs[\"filters\"][0](x) == True])\n",
    "    list_el = new_list\n",
    " \n",
    "  if \"offset\" in kwargs.keys():\n",
    "    new_list2 = new_list[kwargs[\"offset\"]+1:]\n",
    "    list_el = new_list2\n",
    "  \n",
    "  if \"limit\" in kwargs.keys():\n",
    "    new_list3 = new_list2[:kwargs[\"limit\"]]\n",
    "    list_el = new_list3\n",
    "  return list_el\n",
    "  \n",
    "      \n",
    "\n",
    "process(filters=[lambda item: item % 2 == 0, lambda item: item == 2 or 4 <= sum_digits(item) <= 20],limit=2,offset=2)"
   ]
  },
  {
   "cell_type": "markdown",
   "metadata": {},
   "source": [
    "8) "
   ]
  },
  {
   "cell_type": "markdown",
   "metadata": {},
   "source": [
    "a) Write a function called print_arguments with one parameter named function. The function will return one new function which prints the arguments and the keyword arguments received and will return the output of the function receives as a parameter.\n",
    "\n",
    "Example:\n",
    "\n",
    "def multiply_by_two(x):\n",
    "\n",
    "    return x * 2\n",
    "\n",
    "\n",
    "\n",
    "def add_numbers(a, b):\n",
    "\n",
    "    return a + b\n",
    "\n",
    "\n",
    "\n",
    "augmented_multiply_by_two = print_arguments(multiply_by_two)\n",
    "\n",
    " this will print: Arguments are: (10,), {} and will return 20.\n",
    "\n",
    "\n",
    "\n",
    "augmented_add_numbers = print_arguments(add_numbers)\n",
    "\n",
    "x = augmented_add_numbers(3, 4)  # this will print: Arguments are: (3, 4), {} and will return 7."
   ]
  },
  {
   "cell_type": "code",
   "execution_count": 32,
   "metadata": {},
   "outputs": [],
   "source": [
    "\n",
    "def multiply_by_two(x):\n",
    "\n",
    "    return x * 2\n"
   ]
  },
  {
   "cell_type": "code",
   "execution_count": 33,
   "metadata": {},
   "outputs": [],
   "source": [
    "def add_numbers(a, b):\n",
    "\n",
    "    return a + b"
   ]
  },
  {
   "cell_type": "code",
   "execution_count": 75,
   "metadata": {},
   "outputs": [],
   "source": [
    "def print_arguments(function):\n",
    "  def f(*args, **kwargs):\n",
    "    p = function(*args, **kwargs)\n",
    "    print(\"Arguments are: \", args, kwargs, \"and will return \", p)\n",
    "    return p\n",
    "  return f\n",
    "    "
   ]
  },
  {
   "cell_type": "code",
   "execution_count": 76,
   "metadata": {},
   "outputs": [
    {
     "name": "stdout",
     "output_type": "stream",
     "text": [
      "Arguments are:  (10,) {} and will return  20\n"
     ]
    }
   ],
   "source": [
    "augmented_multiply_by_two = print_arguments(multiply_by_two)\n",
    "x = augmented_multiply_by_two(10)"
   ]
  },
  {
   "cell_type": "code",
   "execution_count": 77,
   "metadata": {},
   "outputs": [
    {
     "name": "stdout",
     "output_type": "stream",
     "text": [
      "Arguments are:  (3, 4) {} and will return  7\n"
     ]
    }
   ],
   "source": [
    "augmented_add_numbers = print_arguments(add_numbers)\n",
    "x = augmented_add_numbers(3, 4)  "
   ]
  },
  {
   "cell_type": "markdown",
   "metadata": {},
   "source": [
    "b) Write a function called multiply_output with one parameter named function. The function will return one new function which returns the output of the function received multiplied by 2.\n",
    "\n",
    "Example:\n",
    "\n",
    "def multiply_by_three(x):\n",
    "\n",
    "    return x * 3\n",
    "\n",
    "\n",
    "\n",
    "augmented_multiply_by_three = multiply_output(multiply_by_three)\n",
    "\n",
    "x = augmented_multiply_by_three(10)  # this will return 2 * (10 * 3)"
   ]
  },
  {
   "cell_type": "code",
   "execution_count": 78,
   "metadata": {},
   "outputs": [],
   "source": [
    "def multiply_by_three(x):\n",
    "\n",
    "    return x * 3"
   ]
  },
  {
   "cell_type": "code",
   "execution_count": 79,
   "metadata": {},
   "outputs": [],
   "source": [
    "def multiply_output(function):\n",
    "  def f(*args, **kwargs):\n",
    "    p = function(*args, **kwargs)\n",
    "    return 2*p\n",
    "  return f\n",
    "    "
   ]
  },
  {
   "cell_type": "code",
   "execution_count": 80,
   "metadata": {},
   "outputs": [
    {
     "name": "stdout",
     "output_type": "stream",
     "text": [
      "60\n"
     ]
    }
   ],
   "source": [
    "augmented_multiply_by_three = multiply_output(multiply_by_three)\n",
    "\n",
    "x = augmented_multiply_by_three(10)\n",
    "print(x)"
   ]
  },
  {
   "cell_type": "markdown",
   "metadata": {},
   "source": [
    "c) Write a function called augment_function with two parameters named function and decorators. decorators will be a list of functions which will have the same signature as the previous functions (print_arguments, multiply_output). augment_function will create a new function which is augmented using all the functions in the decorators list.\n",
    "\n",
    "Example:\n",
    "\n",
    "def add_numbers(a, b):\n",
    "\n",
    "    return a + b\n",
    "\n",
    "decorated_function = augment_function(add_numbers, [print_arguments, multiply_output]) \n",
    "\n",
    "x = decorated_function(3, 4)  # this will print: Arguments are: (3, 4), {} and will return (2 * (3 + 4))"
   ]
  },
  {
   "cell_type": "code",
   "execution_count": 81,
   "metadata": {},
   "outputs": [],
   "source": [
    "def add_numbers(a, b):\n",
    "\n",
    "    return a + b"
   ]
  },
  {
   "cell_type": "code",
   "execution_count": 101,
   "metadata": {},
   "outputs": [],
   "source": [
    "def augment_function(function, decorators):\n",
    "  def f(*args, **kwargs):\n",
    "    p = function(*args, **kwargs)\n",
    "    for i in range(0, len(decorators)):\n",
    "      func = decorators[i](p)\n",
    "      p = decorators[i]\n",
    "    return func\n",
    "  return f"
   ]
  },
  {
   "cell_type": "code",
   "execution_count": 102,
   "metadata": {},
   "outputs": [
    {
     "name": "stdout",
     "output_type": "stream",
     "text": [
      "<function multiply_output.<locals>.f at 0x0000016E460D5F30>\n"
     ]
    }
   ],
   "source": [
    "decorated_function = augment_function(add_numbers, [print_arguments, multiply_output]) \n",
    "x = decorated_function(3, 4)\n",
    "print(x)"
   ]
  },
  {
   "cell_type": "markdown",
   "metadata": {},
   "source": [
    "9) Write a function that receives a list of pairs of integers (tuples with 2 elements) as parameter (named pairs). The function should return a list of dictionaries for each pair (in the same order as in the input list) that contain the following keys (as strings): sum (the value should be sum of the 2 numbers), prod (the value should be product of the two numbers), pow (the value should be the first number raised to the power of the second number) \n",
    "\n",
    "Example:\n",
    "\n",
    "f9(pairs = [(5, 2), (19, 1), (30, 6), (2, 2)] )  will return [{'sum': 7, 'prod': 10, 'pow': 25}, {'sum': 20, 'prod': 19, 'pow': 19}, {'sum': 36, 'prod': 180, 'pow': 729000000}, {'sum': 4, 'prod': 4, 'pow': 4}] "
   ]
  },
  {
   "cell_type": "code",
   "execution_count": 104,
   "metadata": {},
   "outputs": [
    {
     "data": {
      "text/plain": [
       "[{'sum': 7, 'prod': 10, 'pow': 25},\n",
       " {'sum': 20, 'prod': 19, 'pow': 19},\n",
       " {'sum': 36, 'prod': 180, 'pow': 729000000},\n",
       " {'sum': 4, 'prod': 4, 'pow': 4}]"
      ]
     },
     "execution_count": 104,
     "metadata": {},
     "output_type": "execute_result"
    }
   ],
   "source": [
    "def f9(pairs):\n",
    "  dict_list = list()\n",
    "  for pair in pairs:\n",
    "    dict_val = dict()\n",
    "    sum_pair = pair[0] + pair[1]\n",
    "    dict_val['sum'] = sum_pair\n",
    "    prod_pair = pair[0] * pair[1]\n",
    "    dict_val['prod'] = prod_pair\n",
    "    pow_pair = pair[0] ** pair[1]\n",
    "    dict_val[\"pow\"] = pow_pair\n",
    "    dict_list.append(dict_val)\n",
    "  return dict_list\n",
    "\n",
    "f9(pairs = [(5, 2), (19, 1), (30, 6), (2, 2)] )\n"
   ]
  }
 ],
 "metadata": {
  "kernelspec": {
   "display_name": "Python 3.10.7 64-bit",
   "language": "python",
   "name": "python3"
  },
  "language_info": {
   "codemirror_mode": {
    "name": "ipython",
    "version": 3
   },
   "file_extension": ".py",
   "mimetype": "text/x-python",
   "name": "python",
   "nbconvert_exporter": "python",
   "pygments_lexer": "ipython3",
   "version": "3.10.7"
  },
  "orig_nbformat": 4,
  "vscode": {
   "interpreter": {
    "hash": "ca172f90e78e099e8213474c453ee0914acc84dc089765d3961ddcbf371f4352"
   }
  }
 },
 "nbformat": 4,
 "nbformat_minor": 2
}
