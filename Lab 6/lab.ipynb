{
 "cells": [
  {
   "cell_type": "markdown",
   "metadata": {},
   "source": [
    "                                                        Lab 6 - Python Programming"
   ]
  },
  {
   "cell_type": "code",
   "execution_count": 30,
   "metadata": {},
   "outputs": [],
   "source": [
    "import re"
   ]
  },
  {
   "cell_type": "markdown",
   "metadata": {},
   "source": [
    "1.Write a function that extracts the words from a given text as a parameter. A word is defined as a sequence of alpha-numeric characters."
   ]
  },
  {
   "cell_type": "code",
   "execution_count": 2,
   "metadata": {},
   "outputs": [],
   "source": [
    "def extract_words(string):\n",
    "  result = re.findall(\"\\w+\", string)\n",
    "  if result:\n",
    "    print(result)"
   ]
  },
  {
   "cell_type": "code",
   "execution_count": 3,
   "metadata": {},
   "outputs": [
    {
     "name": "stdout",
     "output_type": "stream",
     "text": [
      "['Color', 'from', 'pixel', '20', '30', 'is', '123']\n"
     ]
    }
   ],
   "source": [
    "extract_words(\"Color from pixel 20,30 is 123\")"
   ]
  },
  {
   "cell_type": "markdown",
   "metadata": {},
   "source": [
    "2.Write a function that receives as a parameter a regex string, a text string and a whole number x, and returns those long-length x substrings that match the regular expression."
   ]
  },
  {
   "cell_type": "code",
   "execution_count": 26,
   "metadata": {},
   "outputs": [],
   "source": [
    "def regex_sub(regex, string, x):\n",
    "  regex2 = \"[\" + str(regex) + \"]\" + \"{\" + str(x) + \"}\"\n",
    "  print(regex2)\n",
    "  result = re.findall(regex2, string)\n",
    "  if result:\n",
    "    print(result)"
   ]
  },
  {
   "cell_type": "code",
   "execution_count": 27,
   "metadata": {},
   "outputs": [
    {
     "name": "stdout",
     "output_type": "stream",
     "text": [
      "[\\w+\\d+\\w+]{10}\n",
      "['String46Nu', 'Alt_str1ng']\n"
     ]
    }
   ],
   "source": [
    "regex_sub(\"\\w+\\d+\\w+\", \"[String46Nu][String 2][String 3443][Alt_str1ng]\", 10)"
   ]
  },
  {
   "cell_type": "markdown",
   "metadata": {},
   "source": [
    "3.Write a function that receives as a parameter a string of text characters and a list of regular expressions and returns a list of strings that match on at least one regular expression given as a parameter."
   ]
  },
  {
   "cell_type": "code",
   "execution_count": 30,
   "metadata": {},
   "outputs": [],
   "source": [
    "def regex_lists(string_list, regex_list):\n",
    "  new_list = list()\n",
    "  for string in string_list:\n",
    "    for regex in regex_list:\n",
    "      if re.match(regex, string) and not string in new_list:\n",
    "        new_list.append(string)\n",
    "  return new_list"
   ]
  },
  {
   "cell_type": "code",
   "execution_count": 38,
   "metadata": {},
   "outputs": [
    {
     "name": "stdout",
     "output_type": "stream",
     "text": [
      "['0740123456', '999.999.999.999']\n"
     ]
    }
   ],
   "source": [
    "print(regex_lists([\"0740123456\",\"adsadasdasdasda\",\"      ????\\\\\\\\]]\",\"999.999.999.999\"],[\"07[0-9]{8}\",\"([0-9]{1,3}\\.){3}[0-9]{1,3}\"]))"
   ]
  },
  {
   "cell_type": "markdown",
   "metadata": {},
   "source": [
    "4.Write a function that receives as a parameter the path to an xml document and an attrs dictionary and returns those elements that have as attributes all the keys in the dictionary and values ​​the corresponding values. For example, if attrs={\"class\": \"url\", \"name\": \"url-form\", \"data-id\": \"item\"} the items selected will be those tags whose attributes are class=\"url\" si name=\"url-form\" si data-id=\"item\"."
   ]
  },
  {
   "cell_type": "code",
   "execution_count": 143,
   "metadata": {},
   "outputs": [
    {
     "name": "stdout",
     "output_type": "stream",
     "text": [
      "['class', 'name', 'data-id']\n"
     ]
    }
   ],
   "source": [
    "def xml_parser(path, attrs):\n",
    "  data = open(path, \"r\").read()\n",
    "  new_list = list()\n",
    "  result = re.findall(\"<.+>\", str(data))\n",
    "  for res in result:\n",
    "    key = re.findall(\"<[^>]+>\", res)\n",
    "    key0 = key[0]\n",
    "    key0 = key0[1:len(key0)-1]\n",
    "    value = re.findall(\">.+<\", res)\n",
    "    value0 = str(value)\n",
    "    value0 = value0[3:len(value0)-3]\n",
    "    if key0 in attrs.keys() and attrs[key0] == value0:\n",
    "      new_list.append(key0)\n",
    "  return new_list\n",
    "print(xml_parser(\"ex4.xml\", {\"class\": \"url\", \"name\": \"url-form\", \"data-id\": \"item\", \"xml\":\"32\"}))"
   ]
  }
 ],
 "metadata": {
  "kernelspec": {
   "display_name": "Python 3.10.8 64-bit (microsoft store)",
   "language": "python",
   "name": "python3"
  },
  "language_info": {
   "codemirror_mode": {
    "name": "ipython",
    "version": 3
   },
   "file_extension": ".py",
   "mimetype": "text/x-python",
   "name": "python",
   "nbconvert_exporter": "python",
   "pygments_lexer": "ipython3",
   "version": "3.10.8"
  },
  "orig_nbformat": 4,
  "vscode": {
   "interpreter": {
    "hash": "dad72c2b24bc107d3c4714d37dc0eea7747635b709824a019364474a533f37f2"
   }
  }
 },
 "nbformat": 4,
 "nbformat_minor": 2
}
